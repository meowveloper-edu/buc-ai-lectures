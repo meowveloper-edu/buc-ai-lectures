{
 "cells": [
  {
   "cell_type": "code",
   "execution_count": 1,
   "id": "e40ae912-1cf1-452d-97b4-5a9a5c99c7d2",
   "metadata": {},
   "outputs": [],
   "source": [
    "import json\n",
    "from kanren import run, facts, eq, Relation, var, conde"
   ]
  },
  {
   "cell_type": "code",
   "execution_count": 3,
   "id": "dfdaa9da-eda3-4f19-8aa2-a3f5ffe0be99",
   "metadata": {},
   "outputs": [],
   "source": [
    "def parent(x,y):\n",
    "    return conde ([father(x,y)], [mother(x,y)])"
   ]
  },
  {
   "cell_type": "code",
   "execution_count": 4,
   "id": "fa7d99f4-3c44-44ff-87f2-8dad0c9d7dfa",
   "metadata": {},
   "outputs": [],
   "source": [
    "def grandparent(x,y):\n",
    "    temp = var()\n",
    "    return conde((parent(x, temp), parent(temp, y)))"
   ]
  }
 ],
 "metadata": {
  "kernelspec": {
   "display_name": "Python 3 (ipykernel)",
   "language": "python",
   "name": "python3"
  },
  "language_info": {
   "codemirror_mode": {
    "name": "ipython",
    "version": 3
   },
   "file_extension": ".py",
   "mimetype": "text/x-python",
   "name": "python",
   "nbconvert_exporter": "python",
   "pygments_lexer": "ipython3",
   "version": "3.12.7"
  }
 },
 "nbformat": 4,
 "nbformat_minor": 5
}
